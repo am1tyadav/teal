{
 "cells": [
  {
   "cell_type": "markdown",
   "id": "2b1bc3f1",
   "metadata": {},
   "source": [
    "Installation - if you're not using Colab, you will need to install `tensorflow` and `tensorflow-datasets` as well"
   ]
  },
  {
   "cell_type": "code",
   "execution_count": null,
   "id": "067ac143",
   "metadata": {},
   "outputs": [],
   "source": [
    "!pip install git+https://github.com/am1tyadav/teal pydub -q"
   ]
  },
  {
   "cell_type": "markdown",
   "id": "416065ce",
   "metadata": {},
   "source": [
    "Restart kernel after installing packages"
   ]
  },
  {
   "cell_type": "code",
   "execution_count": null,
   "id": "35931b49",
   "metadata": {},
   "outputs": [],
   "source": [
    "import IPython\n",
    "\n",
    "IPython.Application.instance().kernel.do_shutdown(True)"
   ]
  },
  {
   "cell_type": "markdown",
   "id": "95eab692",
   "metadata": {},
   "source": [
    "Import TensorFlow, TFDS and Teal"
   ]
  },
  {
   "cell_type": "code",
   "execution_count": 1,
   "id": "be11b458",
   "metadata": {},
   "outputs": [
    {
     "name": "stderr",
     "output_type": "stream",
     "text": [
      "2022-02-07 16:06:46.878525: W tensorflow/stream_executor/platform/default/dso_loader.cc:64] Could not load dynamic library 'libcudart.so.11.0'; dlerror: libcudart.so.11.0: cannot open shared object file: No such file or directory\n",
      "2022-02-07 16:06:46.878542: I tensorflow/stream_executor/cuda/cudart_stub.cc:29] Ignore above cudart dlerror if you do not have a GPU set up on your machine.\n"
     ]
    }
   ],
   "source": [
    "import tensorflow as tf\n",
    "import numpy as np\n",
    "from tensorflow.keras import layers, models\n",
    "from IPython.display import Audio\n",
    "import tensorflow_datasets as tfds\n",
    "import teal\n",
    "import matplotlib.pyplot as plt"
   ]
  },
  {
   "cell_type": "markdown",
   "id": "1d1d6909",
   "metadata": {},
   "source": [
    "Download the Spoken Digit dataset"
   ]
  },
  {
   "cell_type": "code",
   "execution_count": 2,
   "id": "09f11f3c",
   "metadata": {},
   "outputs": [
    {
     "name": "stderr",
     "output_type": "stream",
     "text": [
      "2022-02-07 16:06:48.688724: E tensorflow/stream_executor/cuda/cuda_driver.cc:271] failed call to cuInit: CUDA_ERROR_NO_DEVICE: no CUDA-capable device is detected\n",
      "2022-02-07 16:06:48.688746: I tensorflow/stream_executor/cuda/cuda_diagnostics.cc:156] kernel driver does not appear to be running on this host (amit-hp): /proc/driver/nvidia/version does not exist\n",
      "2022-02-07 16:06:48.689406: I tensorflow/core/platform/cpu_feature_guard.cc:151] This TensorFlow binary is optimized with oneAPI Deep Neural Network Library (oneDNN) to use the following CPU instructions in performance-critical operations:  AVX2 FMA\n",
      "To enable them in other operations, rebuild TensorFlow with the appropriate compiler flags.\n"
     ]
    }
   ],
   "source": [
    "dataset = tfds.load(\"spoken_digit\", data_dir=\"./tmp\")"
   ]
  },
  {
   "cell_type": "code",
   "execution_count": 35,
   "id": "b66dceae",
   "metadata": {},
   "outputs": [],
   "source": [
    "SAMPLE_RATE = 8000\n",
    "DURATION = 1\n",
    "SAMPLE_LEN = DURATION * SAMPLE_RATE\n",
    "N_FFT = 1024\n",
    "HOP_LEN = 256\n",
    "N_MELS = 28\n",
    "\n",
    "\n",
    "def get_feature(_input, expand=True):\n",
    "    if expand:\n",
    "        _in = tf.expand_dims(_input, axis=0)\n",
    "    else:\n",
    "        _in = _input\n",
    "    _audio = teal.NormalizeAudio()(_in)\n",
    "    _stft = teal.AudioToSTFT(n_fft=N_FFT, hop_length=HOP_LEN)(_audio)\n",
    "    _spec, _phase = teal.STFTToSpecAndPhase()(_stft)\n",
    "    _mel_spec = teal.SpectrogramToMelSpec(sample_rate=SAMPLE_RATE, n_fft=N_FFT, n_mels=N_MELS)(_spec)\n",
    "    _log_mel_spec = teal.PowerToDb()(_mel_spec)\n",
    "    return tf.squeeze(teal.NormalizeSpectrum()(_log_mel_spec), axis=0)\n",
    "\n",
    "    \n",
    "def generate_sin():\n",
    "    f = np.random.randint(100, 800)\n",
    "    x = np.arange(SAMPLE_LEN)\n",
    "    return np.random.uniform(0.01, 0.1, size=(1, )) * np.sin(2 * np.pi * f * x / SAMPLE_RATE)\n",
    "\n",
    "\n",
    "def process_example_audio(example):\n",
    "    audio = example[\"audio\"]\n",
    "    audio = tf.cast(audio, dtype=tf.float32) / 32768.\n",
    "\n",
    "    num_samples = tf.shape(audio)[0]\n",
    "    \n",
    "    if num_samples > SAMPLE_LEN:\n",
    "        output = audio[:SAMPLE_LEN]\n",
    "    else:\n",
    "        # Otherwise pad audio \n",
    "        padding = SAMPLE_LEN - num_samples\n",
    "\n",
    "        if padding == 0:\n",
    "            output = audio\n",
    "        else:\n",
    "            output = tf.pad(audio, [[0, padding]])\n",
    "\n",
    "    noisy = output + generate_sin()\n",
    "    return noisy, output\n",
    "\n",
    "\n",
    "def process_example(example):\n",
    "    noisy, output = process_example_audio(example)\n",
    "    example_log_mel = get_feature(output)\n",
    "    noisy_log_mel = get_feature(noisy)\n",
    "    return noisy_log_mel, example_log_mel"
   ]
  },
  {
   "cell_type": "code",
   "execution_count": 4,
   "id": "12fb952b",
   "metadata": {},
   "outputs": [
    {
     "name": "stdout",
     "output_type": "stream",
     "text": [
      "Splitting dataset into 1750 training examples and 750 validation examples\n"
     ]
    }
   ],
   "source": [
    "BATCH_SIZE = 5\n",
    "TOTAL_EXAMPLES = len(dataset[\"train\"])\n",
    "NUM_TRAIN = int(0.7 * TOTAL_EXAMPLES)\n",
    "NUM_VALID = TOTAL_EXAMPLES - NUM_TRAIN\n",
    "\n",
    "\n",
    "dataset = dataset[\"train\"]\n",
    "dataset = dataset.map(process_example)\n",
    "\n",
    "print(f\"Splitting dataset into {NUM_TRAIN} training examples and {NUM_VALID} validation examples\")\n",
    "\n",
    "train_ds = dataset.take(NUM_TRAIN).batch(BATCH_SIZE)\n",
    "valid_ds = dataset.skip(NUM_TRAIN).batch(BATCH_SIZE)"
   ]
  },
  {
   "cell_type": "code",
   "execution_count": 5,
   "id": "379bdc48",
   "metadata": {},
   "outputs": [],
   "source": [
    "train_ds = train_ds.cache()\n",
    "valid_ds = valid_ds.cache()"
   ]
  },
  {
   "cell_type": "code",
   "execution_count": 6,
   "id": "f8c3a803",
   "metadata": {},
   "outputs": [
    {
     "name": "stderr",
     "output_type": "stream",
     "text": [
      "2022-02-07 16:06:53.612468: W tensorflow/core/kernels/data/cache_dataset_ops.cc:768] The calling iterator did not fully read the dataset being cached. In order to avoid unexpected truncation of the dataset, the partially cached contents of the dataset  will be discarded. This can happen if you have an input pipeline similar to `dataset.cache().take(k).repeat()`. You should use `dataset.take(k).cache().repeat()` instead.\n",
      "2022-02-07 16:06:53.616932: W tensorflow/core/kernels/data/cache_dataset_ops.cc:768] The calling iterator did not fully read the dataset being cached. In order to avoid unexpected truncation of the dataset, the partially cached contents of the dataset  will be discarded. This can happen if you have an input pipeline similar to `dataset.cache().take(k).repeat()`. You should use `dataset.take(k).cache().repeat()` instead.\n"
     ]
    }
   ],
   "source": [
    "examples, labels = next(iter(train_ds.take(1)))"
   ]
  },
  {
   "cell_type": "code",
   "execution_count": 7,
   "id": "2a8ebea4",
   "metadata": {},
   "outputs": [
    {
     "data": {
      "image/png": "[encoded data removed]",
      "text/plain": [
       "<Figure size 432x288 with 1 Axes>"
      ]
     },
     "metadata": {
      "needs_background": "light"
     },
     "output_type": "display_data"
    }
   ],
   "source": [
    "plt.imshow(examples[0]);"
   ]
  },
  {
   "cell_type": "code",
   "execution_count": 8,
   "id": "50d1fff4",
   "metadata": {},
   "outputs": [
    {
     "data": {
      "image/png": "[encoded data removed]",
      "text/plain": [
       "<Figure size 432x288 with 1 Axes>"
      ]
     },
     "metadata": {
      "needs_background": "light"
     },
     "output_type": "display_data"
    }
   ],
   "source": [
    "plt.imshow(labels[0]);"
   ]
  },
  {
   "cell_type": "markdown",
   "id": "c605bcae",
   "metadata": {},
   "source": [
    "We will create a model using `tf.keras` Functional API"
   ]
  },
  {
   "cell_type": "code",
   "execution_count": 11,
   "id": "f6d8f87a",
   "metadata": {},
   "outputs": [
    {
     "name": "stdout",
     "output_type": "stream",
     "text": [
      "Model: \"model_1\"\n",
      "_________________________________________________________________\n",
      " Layer (type)                Output Shape              Param #   \n",
      "=================================================================\n",
      " input_3 (InputLayer)        [(None, 28, 28)]          0         \n",
      "                                                                 \n",
      " lambda_4 (Lambda)           (None, 28, 28, 1)         0         \n",
      "                                                                 \n",
      " conv2d_10 (Conv2D)          (None, 14, 14, 32)        320       \n",
      "                                                                 \n",
      " batch_normalization_8 (Batc  (None, 14, 14, 32)       128       \n",
      " hNormalization)                                                 \n",
      "                                                                 \n",
      " conv2d_11 (Conv2D)          (None, 7, 7, 32)          9248      \n",
      "                                                                 \n",
      " batch_normalization_9 (Batc  (None, 7, 7, 32)         128       \n",
      " hNormalization)                                                 \n",
      "                                                                 \n",
      " flatten_2 (Flatten)         (None, 1568)              0         \n",
      "                                                                 \n",
      " dense_4 (Dense)             (None, 32)                50208     \n",
      "                                                                 \n",
      " dense_5 (Dense)             (None, 1568)              51744     \n",
      "                                                                 \n",
      " reshape_2 (Reshape)         (None, 7, 7, 32)          0         \n",
      "                                                                 \n",
      " up_sampling2d_4 (UpSampling  (None, 14, 14, 32)       0         \n",
      " 2D)                                                             \n",
      "                                                                 \n",
      " conv2d_12 (Conv2D)          (None, 14, 14, 32)        9248      \n",
      "                                                                 \n",
      " batch_normalization_10 (Bat  (None, 14, 14, 32)       128       \n",
      " chNormalization)                                                \n",
      "                                                                 \n",
      " up_sampling2d_5 (UpSampling  (None, 28, 28, 32)       0         \n",
      " 2D)                                                             \n",
      "                                                                 \n",
      " conv2d_13 (Conv2D)          (None, 28, 28, 32)        9248      \n",
      "                                                                 \n",
      " batch_normalization_11 (Bat  (None, 28, 28, 32)       128       \n",
      " chNormalization)                                                \n",
      "                                                                 \n",
      " conv2d_14 (Conv2D)          (None, 28, 28, 1)         33        \n",
      "                                                                 \n",
      " lambda_5 (Lambda)           (None, 28, 28)            0         \n",
      "                                                                 \n",
      " normalize_spectrum_2 (Norma  (None, 28, 28)           0         \n",
      " lizeSpectrum)                                                   \n",
      "                                                                 \n",
      "=================================================================\n",
      "Total params: 130,561\n",
      "Trainable params: 130,305\n",
      "Non-trainable params: 256\n",
      "_________________________________________________________________\n"
     ]
    }
   ],
   "source": [
    "def encode(_input):\n",
    "    _x = layers.Lambda(lambda x: tf.expand_dims(x, axis=-1))(_input)\n",
    "\n",
    "    for i in range(0, 2):\n",
    "        _x = layers.Conv2D(32, 3, strides=2, padding=\"same\", activation=\"tanh\")(_x)\n",
    "        _x = layers.BatchNormalization()(_x)\n",
    "\n",
    "    _x = layers.Flatten()(_x)\n",
    "    _latent = layers.Dense(32, activation=\"tanh\")(_x)\n",
    "    \n",
    "    return _latent\n",
    "\n",
    "\n",
    "def decode(_input):\n",
    "    _x = layers.Dense(7 * 7 * 32, activation=\"tanh\")(_input)\n",
    "    _x = layers.Reshape((7, 7, 32))(_x)\n",
    "\n",
    "    for i in range(0, 2):\n",
    "        _x = layers.UpSampling2D(2)(_x)\n",
    "        _x = layers.Conv2D(32, 3, padding=\"same\", activation=\"tanh\")(_x)\n",
    "        _x = layers.BatchNormalization()(_x)\n",
    "\n",
    "    _x = layers.Conv2D(1, 1, padding=\"same\", activation=\"tanh\")(_x)\n",
    "\n",
    "    _pred_log_mel_spec = layers.Lambda(lambda x: tf.squeeze(x, axis=-1))(_x)\n",
    "    _pred_norm_log_mel = teal.NormalizeSpectrum()(_pred_log_mel_spec)\n",
    "    \n",
    "    return _pred_norm_log_mel\n",
    "\n",
    "\n",
    "def create_model():\n",
    "    _input = layers.Input(shape=(28, 28))\n",
    "    _latent = encode(_input)\n",
    "    _pred_norm_log_mel = decode(_latent)\n",
    "\n",
    "    _model = models.Model(\n",
    "        _input, _pred_norm_log_mel\n",
    "    )\n",
    "    return _model\n",
    "\n",
    "_model = create_model()\n",
    "_model.summary()"
   ]
  },
  {
   "cell_type": "code",
   "execution_count": 12,
   "id": "ed532564",
   "metadata": {},
   "outputs": [],
   "source": [
    "_model.compile(\n",
    "    loss=tf.keras.losses.CosineSimilarity(),\n",
    "    optimizer=\"adam\"\n",
    ")"
   ]
  },
  {
   "cell_type": "code",
   "execution_count": 13,
   "id": "58557f6a",
   "metadata": {},
   "outputs": [
    {
     "name": "stdout",
     "output_type": "stream",
     "text": [
      "Epoch 1/20\n",
      "350/350 [==============================] - 6s 15ms/step - loss: -0.8552 - val_loss: -0.8841 - lr: 0.0010\n",
      "Epoch 2/20\n",
      "350/350 [==============================] - 2s 7ms/step - loss: -0.9110 - val_loss: -0.9240 - lr: 0.0010\n",
      "Epoch 3/20\n",
      "350/350 [==============================] - 2s 7ms/step - loss: -0.9288 - val_loss: -0.9245 - lr: 0.0010\n",
      "Epoch 4/20\n",
      "350/350 [==============================] - 2s 7ms/step - loss: -0.9371 - val_loss: -0.9403 - lr: 0.0010\n",
      "Epoch 5/20\n",
      "350/350 [==============================] - 2s 7ms/step - loss: -0.9443 - val_loss: -0.9450 - lr: 0.0010\n",
      "Epoch 6/20\n",
      "350/350 [==============================] - 2s 7ms/step - loss: -0.9494 - val_loss: -0.9484 - lr: 0.0010\n",
      "Epoch 7/20\n",
      "350/350 [==============================] - 2s 7ms/step - loss: -0.9522 - val_loss: -0.9506 - lr: 0.0010\n",
      "Epoch 8/20\n",
      "350/350 [==============================] - 2s 7ms/step - loss: -0.9540 - val_loss: -0.9541 - lr: 0.0010\n",
      "Epoch 9/20\n",
      "350/350 [==============================] - 2s 7ms/step - loss: -0.9565 - val_loss: -0.9564 - lr: 0.0010\n",
      "Epoch 10/20\n",
      "350/350 [==============================] - 2s 7ms/step - loss: -0.9587 - val_loss: -0.9570 - lr: 0.0010\n",
      "Epoch 11/20\n",
      "350/350 [==============================] - 2s 7ms/step - loss: -0.9598 - val_loss: -0.9579 - lr: 0.0010\n",
      "Epoch 12/20\n",
      "350/350 [==============================] - 2s 7ms/step - loss: -0.9616 - val_loss: -0.9562 - lr: 0.0010\n",
      "Epoch 13/20\n",
      "350/350 [==============================] - 3s 7ms/step - loss: -0.9629 - val_loss: -0.9620 - lr: 0.0010\n",
      "Epoch 14/20\n",
      "350/350 [==============================] - 3s 7ms/step - loss: -0.9652 - val_loss: -0.9615 - lr: 0.0010\n",
      "Epoch 15/20\n",
      "350/350 [==============================] - 3s 7ms/step - loss: -0.9667 - val_loss: -0.9631 - lr: 0.0010\n",
      "Epoch 16/20\n",
      "350/350 [==============================] - 3s 7ms/step - loss: -0.9680 - val_loss: -0.9642 - lr: 0.0010\n",
      "Epoch 17/20\n",
      "350/350 [==============================] - 3s 7ms/step - loss: -0.9690 - val_loss: -0.9650 - lr: 0.0010\n",
      "Epoch 18/20\n",
      "350/350 [==============================] - 3s 7ms/step - loss: -0.9710 - val_loss: -0.9659 - lr: 0.0010\n",
      "Epoch 19/20\n",
      "350/350 [==============================] - 3s 7ms/step - loss: -0.9724 - val_loss: -0.9678 - lr: 0.0010\n",
      "Epoch 20/20\n",
      "350/350 [==============================] - 3s 7ms/step - loss: -0.9742 - val_loss: -0.9699 - lr: 0.0010\n"
     ]
    }
   ],
   "source": [
    "_ = _model.fit(\n",
    "    train_ds,\n",
    "    validation_data=valid_ds,\n",
    "    epochs=20,\n",
    "    callbacks=[\n",
    "        tf.keras.callbacks.ReduceLROnPlateau(patience=3, factor=0.8),\n",
    "    ]\n",
    ")"
   ]
  },
  {
   "cell_type": "code",
   "execution_count": 20,
   "id": "67aac9bd",
   "metadata": {},
   "outputs": [],
   "source": [
    "# Lets load the dataset again but just audio\n",
    "\n",
    "dataset = tfds.load(\"spoken_digit\", data_dir=\"./tmp\")\n",
    "dataset = dataset[\"train\"]\n",
    "dataset = dataset.map(process_example_audio)\n",
    "dataset = dataset.batch(1)"
   ]
  },
  {
   "cell_type": "code",
   "execution_count": 64,
   "id": "cf4a6828",
   "metadata": {},
   "outputs": [
    {
     "name": "stderr",
     "output_type": "stream",
     "text": [
      "2022-02-07 16:24:13.407318: W tensorflow/core/kernels/data/cache_dataset_ops.cc:768] The calling iterator did not fully read the dataset being cached. In order to avoid unexpected truncation of the dataset, the partially cached contents of the dataset  will be discarded. This can happen if you have an input pipeline similar to `dataset.cache().take(k).repeat()`. You should use `dataset.take(k).cache().repeat()` instead.\n"
     ]
    }
   ],
   "source": [
    "i = iter(dataset)"
   ]
  },
  {
   "cell_type": "code",
   "execution_count": 98,
   "id": "929c3a91",
   "metadata": {},
   "outputs": [],
   "source": [
    "noisy, label = next(i)"
   ]
  },
  {
   "cell_type": "code",
   "execution_count": 108,
   "id": "135d63f0",
   "metadata": {},
   "outputs": [
    {
     "data": {
      "text/html": [
       "\n",
       "                <audio  controls=\"controls\" >\n",
       "                    <source src=\"data:audio/wav;base64,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\" type=\"audio/wav\" />\n",
       "                    Your browser does not support the audio element.\n",
       "                </audio>\n",
       "              "
      ],
      "text/plain": [
       "<IPython.lib.display.Audio object>"
      ]
     },
     "execution_count": 108,
     "metadata": {},
     "output_type": "execute_result"
    }
   ],
   "source": [
    "Audio(noisy[0], rate=SAMPLE_RATE)"
   ]
  },
  {
   "cell_type": "code",
   "execution_count": 109,
   "id": "5ff67dbc",
   "metadata": {},
   "outputs": [
    {
     "data": {
      "text/html": [
       "\n",
       "                <audio  controls=\"controls\" >\n",
       "                    <source src=\"data:audio/wav;base64,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\" type=\"audio/wav\" />\n",
       "                    Your browser does not support the audio element.\n",
       "                </audio>\n",
       "              "
      ],
      "text/plain": [
       "<IPython.lib.display.Audio object>"
      ]
     },
     "execution_count": 109,
     "metadata": {},
     "output_type": "execute_result"
    }
   ],
   "source": [
    "Audio(label[0], rate=SAMPLE_RATE)"
   ]
  },
  {
   "cell_type": "code",
   "execution_count": 110,
   "id": "f3ce6a42",
   "metadata": {},
   "outputs": [],
   "source": [
    "_audio = teal.NormalizeAudio()(noisy)"
   ]
  },
  {
   "cell_type": "code",
   "execution_count": 111,
   "id": "2efd4e41",
   "metadata": {},
   "outputs": [],
   "source": [
    "_stft = teal.AudioToSTFT(n_fft=N_FFT, hop_length=HOP_LEN)(_audio)\n",
    "_spec, _phase = teal.STFTToSpecAndPhase()(_stft)\n",
    "_mel_spec = teal.SpectrogramToMelSpec(sample_rate=SAMPLE_RATE, n_fft=N_FFT, n_mels=N_MELS)(_spec)\n",
    "_log_mel_spec = teal.PowerToDb()(_mel_spec)\n",
    "_norm_spec = teal.NormalizeSpectrum()(_log_mel_spec)"
   ]
  },
  {
   "cell_type": "code",
   "execution_count": 112,
   "id": "c25204e3",
   "metadata": {},
   "outputs": [
    {
     "data": {
      "image/png": "[encoded data removed]",
      "text/plain": [
       "<Figure size 432x288 with 1 Axes>"
      ]
     },
     "metadata": {
      "needs_background": "light"
     },
     "output_type": "display_data"
    }
   ],
   "source": [
    "plt.imshow(_norm_spec[0]);"
   ]
  },
  {
   "cell_type": "code",
   "execution_count": 113,
   "id": "513dc563",
   "metadata": {},
   "outputs": [],
   "source": [
    "preds = _model.predict(_norm_spec)"
   ]
  },
  {
   "cell_type": "code",
   "execution_count": 114,
   "id": "08524c62",
   "metadata": {},
   "outputs": [
    {
     "data": {
      "image/png": "[encoded data removed]",
      "text/plain": [
       "<Figure size 432x288 with 1 Axes>"
      ]
     },
     "metadata": {
      "needs_background": "light"
     },
     "output_type": "display_data"
    }
   ],
   "source": [
    "plt.imshow(preds[0]);"
   ]
  },
  {
   "cell_type": "code",
   "execution_count": 115,
   "id": "19373acd",
   "metadata": {},
   "outputs": [],
   "source": [
    "x = teal.DbToPower()(preds)\n",
    "x = teal.MelSpecToSpectrogram(sample_rate=SAMPLE_RATE, n_fft=N_FFT, n_mels=N_MELS)(x)\n",
    "x = teal.SpecAndPhaseToSTFT()([x, _phase])\n",
    "x = teal.STFTToAudio(n_fft=N_FFT, hop_length=HOP_LEN)(x)\n",
    "_pred_audio_norm = teal.NormalizeAudio()(x)"
   ]
  },
  {
   "cell_type": "code",
   "execution_count": 116,
   "id": "04b32be1",
   "metadata": {},
   "outputs": [
    {
     "data": {
      "text/html": [
       "\n",
       "                <audio  controls=\"controls\" >\n",
       "                    <source src=\"data:audio/wav;base64,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\" type=\"audio/wav\" />\n",
       "                    Your browser does not support the audio element.\n",
       "                </audio>\n",
       "              "
      ],
      "text/plain": [
       "<IPython.lib.display.Audio object>"
      ]
     },
     "execution_count": 116,
     "metadata": {},
     "output_type": "execute_result"
    }
   ],
   "source": [
    "Audio(_pred_audio_norm[0], rate=SAMPLE_RATE)"
   ]
  },
  {
   "cell_type": "code",
   "execution_count": null,
   "id": "b7318ec9",
   "metadata": {},
   "outputs": [],
   "source": []
  }
 ],
 "metadata": {
  "kernelspec": {
   "display_name": "Python 3 (ipykernel)",
   "language": "python",
   "name": "python3"
  },
  "language_info": {
   "codemirror_mode": {
    "name": "ipython",
    "version": 3
   },
   "file_extension": ".py",
   "mimetype": "text/x-python",
   "name": "python",
   "nbconvert_exporter": "python",
   "pygments_lexer": "ipython3",
   "version": "3.8.10"
  }
 },
 "nbformat": 4,
 "nbformat_minor": 5
}
