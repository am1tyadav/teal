{
 "cells": [
  {
   "cell_type": "code",
   "execution_count": null,
   "id": "bcb7444c",
   "metadata": {},
   "outputs": [],
   "source": [
    "import os\n",
    "import tensorflow as tf\n",
    "from IPython.display import Audio\n",
    "from teal.augment import InversePolarity, RandomGain, RandomNoise\n",
    "from teal.feature import Normalize"
   ]
  },
  {
   "cell_type": "code",
   "execution_count": null,
   "id": "d636d44e",
   "metadata": {},
   "outputs": [],
   "source": [
    "file_path = \"samples/led.wav\"\n",
    "sr = 22050\n",
    "\n",
    "with open(file_path, \"rb\") as f:\n",
    "    audio_data = f.read()\n",
    "\n",
    "audio, _ = tf.audio.decode_wav(audio_data)\n",
    "audio = tf.transpose(audio).numpy()\n",
    "audio_chunk = audio[:, :sr * 3] # First 3 seconds"
   ]
  },
  {
   "cell_type": "code",
   "execution_count": null,
   "id": "3fa5635a",
   "metadata": {},
   "outputs": [],
   "source": [
    "Audio(audio_chunk, rate=sr)"
   ]
  },
  {
   "cell_type": "markdown",
   "id": "365a9c47",
   "metadata": {},
   "source": [
    "## Inverse Polarity"
   ]
  },
  {
   "cell_type": "code",
   "execution_count": null,
   "id": "2396ffc0",
   "metadata": {},
   "outputs": [],
   "source": [
    "inversed = InversePolarity(chance=1.)(audio_chunk, training=True)\n",
    "\n",
    "Audio(inversed.numpy(), rate=sr)"
   ]
  },
  {
   "cell_type": "markdown",
   "id": "7f029d3a",
   "metadata": {},
   "source": [
    "If added with original example, the result should be silence"
   ]
  },
  {
   "cell_type": "code",
   "execution_count": null,
   "id": "3c487d53",
   "metadata": {},
   "outputs": [],
   "source": [
    "silence = inversed.numpy() + audio_chunk\n",
    "\n",
    "Audio(silence, rate=sr, normalize=False)"
   ]
  },
  {
   "cell_type": "markdown",
   "id": "4fbd0a72",
   "metadata": {},
   "source": [
    "## Random Gain"
   ]
  },
  {
   "cell_type": "code",
   "execution_count": null,
   "id": "4b2d09a8",
   "metadata": {},
   "outputs": [],
   "source": [
    "random_gain = RandomGain(chance=1., min_factor=0.4, max_factor=0.5)(audio_chunk, training=True)\n",
    "\n",
    "Audio(random_gain.numpy(), rate=sr, normalize=False)"
   ]
  },
  {
   "cell_type": "code",
   "execution_count": null,
   "id": "13f329e9",
   "metadata": {},
   "outputs": [],
   "source": [
    "normalized = Normalize()(random_gain)\n",
    "\n",
    "Audio(normalized.numpy(), rate=sr, normalize=False)"
   ]
  },
  {
   "cell_type": "markdown",
   "id": "2371901d",
   "metadata": {},
   "source": [
    "## Random Noise"
   ]
  },
  {
   "cell_type": "code",
   "execution_count": null,
   "id": "820eb8ba",
   "metadata": {},
   "outputs": [],
   "source": [
    "random_noise = RandomNoise(chance=1., max_noise=0.02)(audio_chunk, training=True)\n",
    "\n",
    "Audio(random_noise.numpy(), rate=sr)"
   ]
  },
  {
   "cell_type": "code",
   "execution_count": null,
   "id": "15c5d8bb",
   "metadata": {},
   "outputs": [],
   "source": [
    "normalized_with_noise = Normalize()(random_noise)\n",
    "\n",
    "Audio(normalized_with_noise.numpy(), rate=sr, normalize=False)"
   ]
  },
  {
   "cell_type": "code",
   "execution_count": null,
   "id": "5d214d13",
   "metadata": {},
   "outputs": [],
   "source": []
  },
  {
   "cell_type": "code",
   "execution_count": null,
   "id": "0c5c072c",
   "metadata": {},
   "outputs": [],
   "source": []
  },
  {
   "cell_type": "code",
   "execution_count": 1,
   "id": "ceb6a0e6",
   "metadata": {},
   "outputs": [],
   "source": [
    "import librosa\n",
    "import numpy as np\n",
    "from teal.stft import STFT\n",
    "from tests.utils import *\n",
    "import matplotlib.pyplot as plt"
   ]
  },
  {
   "cell_type": "code",
   "execution_count": 20,
   "id": "e7a2613e",
   "metadata": {},
   "outputs": [],
   "source": [
    "example = get_audio_examples()[0]\n",
    "\n",
    "\n",
    "result = STFT(N_FFT, HOP_LEN)(np.expand_dims(example, axis=0))[0]"
   ]
  },
  {
   "cell_type": "code",
   "execution_count": 21,
   "id": "66fcbd82",
   "metadata": {},
   "outputs": [
    {
     "data": {
      "text/plain": [
       "TensorShape([126, 1025])"
      ]
     },
     "execution_count": 21,
     "metadata": {},
     "output_type": "execute_result"
    }
   ],
   "source": [
    "result.shape"
   ]
  },
  {
   "cell_type": "code",
   "execution_count": 22,
   "id": "f237de6a",
   "metadata": {},
   "outputs": [
    {
     "data": {
      "text/plain": [
       "<matplotlib.image.AxesImage at 0x7f87b43e4f10>"
      ]
     },
     "execution_count": 22,
     "metadata": {},
     "output_type": "execute_result"
    },
    {
     "data": {
      "image/png": "[encoded data removed]",
      "text/plain": [
       "<Figure size 432x288 with 1 Axes>"
      ]
     },
     "metadata": {
      "needs_background": "light"
     },
     "output_type": "display_data"
    }
   ],
   "source": [
    "plt.imshow(tf.abs(result))"
   ]
  },
  {
   "cell_type": "code",
   "execution_count": 23,
   "id": "e93e0f6f",
   "metadata": {},
   "outputs": [],
   "source": [
    "expected = librosa.stft(\n",
    "    example.numpy(), n_fft=N_FFT,\n",
    "    hop_length=HOP_LEN, center=False\n",
    ")"
   ]
  },
  {
   "cell_type": "code",
   "execution_count": 24,
   "id": "d37bd864",
   "metadata": {},
   "outputs": [
    {
     "data": {
      "text/plain": [
       "(1025, 126)"
      ]
     },
     "execution_count": 24,
     "metadata": {},
     "output_type": "execute_result"
    }
   ],
   "source": [
    "expected.shape"
   ]
  },
  {
   "cell_type": "code",
   "execution_count": 25,
   "id": "441fe709",
   "metadata": {},
   "outputs": [
    {
     "data": {
      "text/plain": [
       "<matplotlib.image.AxesImage at 0x7f87b442ff70>"
      ]
     },
     "execution_count": 25,
     "metadata": {},
     "output_type": "execute_result"
    },
    {
     "data": {
      "image/png": "[encoded data removed]",
      "text/plain": [
       "<Figure size 432x288 with 1 Axes>"
      ]
     },
     "metadata": {
      "needs_background": "light"
     },
     "output_type": "display_data"
    }
   ],
   "source": [
    "plt.imshow(np.transpose(np.abs(expected)))"
   ]
  },
  {
   "cell_type": "code",
   "execution_count": 26,
   "id": "9a5194ea",
   "metadata": {},
   "outputs": [
    {
     "data": {
      "text/plain": [
       "(48.82793+44.86312j)"
      ]
     },
     "execution_count": 26,
     "metadata": {},
     "output_type": "execute_result"
    }
   ],
   "source": [
    "result.numpy().max()"
   ]
  },
  {
   "cell_type": "code",
   "execution_count": 27,
   "id": "b60de3eb",
   "metadata": {},
   "outputs": [
    {
     "data": {
      "text/plain": [
       "(48.82794+44.863148j)"
      ]
     },
     "execution_count": 27,
     "metadata": {},
     "output_type": "execute_result"
    }
   ],
   "source": [
    "expected.max()"
   ]
  },
  {
   "cell_type": "code",
   "execution_count": 28,
   "id": "768a9c89",
   "metadata": {},
   "outputs": [
    {
     "data": {
      "text/plain": [
       "(-55.14981-77.995026j)"
      ]
     },
     "execution_count": 28,
     "metadata": {},
     "output_type": "execute_result"
    }
   ],
   "source": [
    "result.numpy().min()"
   ]
  },
  {
   "cell_type": "code",
   "execution_count": 29,
   "id": "47ff2101",
   "metadata": {},
   "outputs": [
    {
     "data": {
      "text/plain": [
       "(-55.149815-77.99507j)"
      ]
     },
     "execution_count": 29,
     "metadata": {},
     "output_type": "execute_result"
    }
   ],
   "source": [
    "expected.min()"
   ]
  },
  {
   "cell_type": "code",
   "execution_count": 31,
   "id": "0b44e212",
   "metadata": {},
   "outputs": [],
   "source": [
    "diff = np.transpose(expected) - result"
   ]
  },
  {
   "cell_type": "code",
   "execution_count": 34,
   "id": "a70767bc",
   "metadata": {},
   "outputs": [
    {
     "data": {
      "text/plain": [
       "(0.00027972087-0.00040715933j)"
      ]
     },
     "execution_count": 34,
     "metadata": {},
     "output_type": "execute_result"
    }
   ],
   "source": [
    "diff.numpy().max()"
   ]
  },
  {
   "cell_type": "code",
   "execution_count": 35,
   "id": "46c220f1",
   "metadata": {},
   "outputs": [
    {
     "data": {
      "text/plain": [
       "(-0.00025048852+0.00023636222j)"
      ]
     },
     "execution_count": 35,
     "metadata": {},
     "output_type": "execute_result"
    }
   ],
   "source": [
    "diff.numpy().min()"
   ]
  },
  {
   "cell_type": "code",
   "execution_count": null,
   "id": "418ee828",
   "metadata": {},
   "outputs": [],
   "source": []
  }
 ],
 "metadata": {
  "kernelspec": {
   "display_name": "Python 3 (ipykernel)",
   "language": "python",
   "name": "python3"
  },
  "language_info": {
   "codemirror_mode": {
    "name": "ipython",
    "version": 3
   },
   "file_extension": ".py",
   "mimetype": "text/x-python",
   "name": "python",
   "nbconvert_exporter": "python",
   "pygments_lexer": "ipython3",
   "version": "3.8.10"
  }
 },
 "nbformat": 4,
 "nbformat_minor": 5
}
